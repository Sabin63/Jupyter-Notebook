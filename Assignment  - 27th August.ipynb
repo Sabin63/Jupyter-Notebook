{
 "cells": [
  {
   "cell_type": "markdown",
   "metadata": {},
   "source": [
    "## Electrostatic force between the charges\n",
    "### The Coulomb's force between two charges $q_1$ and $q_2$ separated at distance $r$ is given as; \n",
    "#### $ F = k \\frac{q_1q_2}{r^2}$, where $ k = 9\\times 10^9 Nm^2C^{-2}$"
   ]
  },
  {
   "cell_type": "markdown",
   "metadata": {},
   "source": [
    "- Write a code for function to calculate the Coulomb's force between two given charge at given distance\n",
    "- use list to calculate the variation of Coulomb's force between two charges (as you like) placed at a range of distance (choose range in your favour)\n",
    "- Make a plot that shows the variation of Coulomb's force with distance using list"
   ]
  },
  {
   "cell_type": "markdown",
   "metadata": {},
   "source": [
    "# Solution:"
   ]
  },
  {
   "cell_type": "markdown",
   "metadata": {},
   "source": [
    "#### (I) A code for function to calculate the Coulomb's force between two given charge at given distance."
   ]
  },
  {
   "cell_type": "code",
   "execution_count": 2,
   "metadata": {},
   "outputs": [],
   "source": [
    "def Coulomb(Q1, Q2, d):\n",
    "    return ((9*(10**9)) * Q1 * Q2) / d**2"
   ]
  },
  {
   "cell_type": "code",
   "execution_count": 4,
   "metadata": {},
   "outputs": [
    {
     "data": {
      "text/plain": [
       "24000000000.0"
      ]
     },
     "execution_count": 4,
     "metadata": {},
     "output_type": "execute_result"
    }
   ],
   "source": [
    "Coulomb(2,3,1.5) #Here, Q1 = 2C, Q2 = 3C, d = 1.5m"
   ]
  },
  {
   "cell_type": "markdown",
   "metadata": {},
   "source": [
    "#### (II) Using list to calculate the variation of Coulomb's force between two charges placed at a range of distance."
   ]
  },
  {
   "cell_type": "code",
   "execution_count": 5,
   "metadata": {},
   "outputs": [],
   "source": [
    "def Coulomb(d):\n",
    "    Q1 = 2\n",
    "    Q2 = 3\n",
    "    F = ((9*(10**9)) * Q1 * Q2) / d**2\n",
    "    return F\n",
    "\n",
    "    "
   ]
  },
  {
   "cell_type": "code",
   "execution_count": 6,
   "metadata": {},
   "outputs": [
    {
     "name": "stdout",
     "output_type": "stream",
     "text": [
      "[1, 2, 3, 4] [54000000000.0, 13500000000.0, 6000000000.0, 3375000000.0]\n"
     ]
    }
   ],
   "source": [
    "X = [] #empty list\n",
    "Y = [] \n",
    "for d in range(1,5):\n",
    "    X.append(d)\n",
    "    F1 = Coulomb(d)\n",
    "    Y.append(F1)\n",
    "print(X,Y)"
   ]
  },
  {
   "cell_type": "markdown",
   "metadata": {},
   "source": [
    "#### (III) A plot that shows the variation of Coulomb's force with distance using list."
   ]
  },
  {
   "cell_type": "code",
   "execution_count": 7,
   "metadata": {},
   "outputs": [],
   "source": [
    "import matplotlib.pyplot as plt #plt is arbitrary \n",
    "%matplotlib inline"
   ]
  },
  {
   "cell_type": "code",
   "execution_count": 8,
   "metadata": {},
   "outputs": [
    {
     "data": {
      "image/png": "[encoded data removed]",
      "text/plain": [
       "<Figure size 432x288 with 1 Axes>"
      ]
     },
     "metadata": {
      "needs_background": "light"
     },
     "output_type": "display_data"
    }
   ],
   "source": [
    "plt.plot(X,Y,color= 'g',lw = 3)\n",
    "plt.xlabel('d',fontsize=20)\n",
    "plt.ylabel('F',fontsize=20)\n",
    "plt.xticks(fontsize=20)\n",
    "plt.title('Coulomb Force',fontsize=20)\n",
    "plt.savefig('quad.jpg')"
   ]
  },
  {
   "cell_type": "code",
   "execution_count": null,
   "metadata": {},
   "outputs": [],
   "source": []
  }
 ],
 "metadata": {
  "kernelspec": {
   "display_name": "Python 3",
   "language": "python",
   "name": "python3"
  },
  "language_info": {
   "codemirror_mode": {
    "name": "ipython",
    "version": 3
   },
   "file_extension": ".py",
   "mimetype": "text/x-python",
   "name": "python",
   "nbconvert_exporter": "python",
   "pygments_lexer": "ipython3",
   "version": "3.8.3"
  }
 },
 "nbformat": 4,
 "nbformat_minor": 4
}
