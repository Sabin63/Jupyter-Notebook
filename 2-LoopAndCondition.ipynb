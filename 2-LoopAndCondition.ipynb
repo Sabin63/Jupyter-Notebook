{
 "cells": [
  {
   "cell_type": "markdown",
   "metadata": {},
   "source": [
    "# Loops and conditions\n",
    "\n",
    "Loops provide the method of iteration while condition allows or blocks the code execution  when specified condition is meet."
   ]
  },
  {
   "cell_type": "markdown",
   "metadata": {},
   "source": [
    "### For llop and While Loop"
   ]
  },
  {
   "cell_type": "markdown",
   "metadata": {},
   "source": [
    "- To iterate over the List. Lets prin the items in the list"
   ]
  },
  {
   "cell_type": "code",
   "execution_count": 1,
   "metadata": {},
   "outputs": [
    {
     "name": "stdout",
     "output_type": "stream",
     "text": [
      "apple\n",
      "banana\n",
      "kite\n",
      "cellphone\n",
      "pen\n"
     ]
    }
   ],
   "source": [
    "L =['apple','banana','kite','cellphone','pen']\n",
    "for x in L:\n",
    "    print(x)\n"
   ]
  },
  {
   "cell_type": "markdown",
   "metadata": {},
   "source": [
    "- What is range?"
   ]
  },
  {
   "cell_type": "code",
   "execution_count": 2,
   "metadata": {},
   "outputs": [
    {
     "data": {
      "text/plain": [
       "(range(0, 10), range(1, 100), 4950)"
      ]
     },
     "execution_count": 2,
     "metadata": {},
     "output_type": "execute_result"
    }
   ],
   "source": [
    "range(10), range(1,100), sum(range(100))"
   ]
  },
  {
   "cell_type": "code",
   "execution_count": 3,
   "metadata": {},
   "outputs": [
    {
     "data": {
      "text/plain": [
       "45"
      ]
     },
     "execution_count": 3,
     "metadata": {},
     "output_type": "execute_result"
    }
   ],
   "source": [
    "L = [x for x in range(10)]\n",
    "sum(L)"
   ]
  },
  {
   "cell_type": "code",
   "execution_count": 4,
   "metadata": {},
   "outputs": [
    {
     "data": {
      "text/plain": [
       "(45, 145)"
      ]
     },
     "execution_count": 4,
     "metadata": {},
     "output_type": "execute_result"
    }
   ],
   "source": [
    "sum(range(10)),sum(range(10,20))"
   ]
  },
  {
   "cell_type": "code",
   "execution_count": 5,
   "metadata": {},
   "outputs": [
    {
     "data": {
      "text/plain": [
       "(range(0, 100), 4950)"
      ]
     },
     "execution_count": 5,
     "metadata": {},
     "output_type": "execute_result"
    }
   ],
   "source": [
    "range(100),sum(range(100))"
   ]
  },
  {
   "cell_type": "code",
   "execution_count": 6,
   "metadata": {},
   "outputs": [
    {
     "data": {
      "text/plain": [
       "4950"
      ]
     },
     "execution_count": 6,
     "metadata": {},
     "output_type": "execute_result"
    }
   ],
   "source": [
    "L=[i for i in range(100)]\n",
    "sum(L)"
   ]
  },
  {
   "cell_type": "code",
   "execution_count": 7,
   "metadata": {},
   "outputs": [
    {
     "name": "stdout",
     "output_type": "stream",
     "text": [
      "[0, 1, 2, 3, 4]\n"
     ]
    },
    {
     "data": {
      "text/plain": [
       "(None, 10)"
      ]
     },
     "execution_count": 7,
     "metadata": {},
     "output_type": "execute_result"
    }
   ],
   "source": [
    "L=[i for i in range(5)]\n",
    "print(L),sum(range(5))"
   ]
  },
  {
   "cell_type": "code",
   "execution_count": 8,
   "metadata": {},
   "outputs": [
    {
     "data": {
      "text/plain": [
       "4950"
      ]
     },
     "execution_count": 8,
     "metadata": {},
     "output_type": "execute_result"
    }
   ],
   "source": [
    "sum(range(100))"
   ]
  },
  {
   "cell_type": "markdown",
   "metadata": {},
   "source": [
    "- To iterate with ```for``` loop and adding the iterating index (the value of ```10*k```) to a blank List ```L```."
   ]
  },
  {
   "cell_type": "code",
   "execution_count": 9,
   "metadata": {},
   "outputs": [
    {
     "data": {
      "text/plain": [
       "[1, 2, 3, 4, 5, 6, 7, 8, 9, 21, 23, 25, 27, 29, 31, 33, 35, 37, 39]"
      ]
     },
     "execution_count": 9,
     "metadata": {},
     "output_type": "execute_result"
    }
   ],
   "source": [
    "L = [1,2,3,4,5,6,7,8,9]\n",
    "for k in range(10,20):\n",
    "    L.append(2*k+1)\n",
    "L"
   ]
  },
  {
   "cell_type": "code",
   "execution_count": 10,
   "metadata": {},
   "outputs": [
    {
     "name": "stdout",
     "output_type": "stream",
     "text": [
      "[100]\n"
     ]
    }
   ],
   "source": [
    "P=[]\n",
    "P.append(100)\n",
    "print(P)"
   ]
  },
  {
   "cell_type": "code",
   "execution_count": 11,
   "metadata": {},
   "outputs": [
    {
     "name": "stdout",
     "output_type": "stream",
     "text": [
      "[0, 1, 2, 3, 4, 5, 6, 7, 8, 9, 10, 11, 12, 13, 14, 15, 16, 17, 18, 19]\n"
     ]
    }
   ],
   "source": [
    "M =[]\n",
    "for k in range(20):\n",
    "    M.append(k)\n",
    "print(M)"
   ]
  },
  {
   "cell_type": "markdown",
   "metadata": {},
   "source": [
    "- To create a double loop also called ***nested for loop***. Lets create double for loop with ```i``` and ```j``` with range ```5``` and also populate the dictionary with ```key``` as ```(i,j)```and ```value``` as ```10*i+j``` when ```i=j``` and ```100*1+j``` when ```i!=j```."
   ]
  },
  {
   "cell_type": "code",
   "execution_count": 12,
   "metadata": {},
   "outputs": [
    {
     "name": "stdout",
     "output_type": "stream",
     "text": [
      "{(0, 0): 0, (0, 1): 1, (0, 2): 2, (1, 0): 100, (1, 1): 11, (1, 2): 102, (2, 0): 200, (2, 1): 201, (2, 2): 22}\n"
     ]
    }
   ],
   "source": [
    "D = {} #empty dictionary or set\n",
    "for i in range(3):\n",
    "    for j in range(3):\n",
    "        if i == j :\n",
    "            D.update({(i,j) : 10*i+j})\n",
    "        elif i!= j:\n",
    "            D.update({(i,j) : 100*i+j})\n",
    "            \n",
    "print(D)"
   ]
  },
  {
   "cell_type": "markdown",
   "metadata": {},
   "source": [
    "- To iterate two elements from two seperate Lists. It is not like nested for loop."
   ]
  },
  {
   "cell_type": "code",
   "execution_count": 13,
   "metadata": {},
   "outputs": [
    {
     "name": "stdout",
     "output_type": "stream",
     "text": [
      "apple | 0 | 12\n",
      "banana | 1 | 45\n",
      "kite | 2 | 45\n",
      "cellphone | 3 | 67\n",
      "pen | 4 | 34\n"
     ]
    }
   ],
   "source": [
    "for item,j,k in zip(['apple','banana','kite','cellphone','pen'],\\\n",
    "                    range(5),[12,45,45,67,34]):\n",
    "    print(item,\"|\",j,\"|\",k)"
   ]
  },
  {
   "cell_type": "markdown",
   "metadata": {},
   "source": [
    "- To iterate and ```ennumerate``` both together."
   ]
  },
  {
   "cell_type": "code",
   "execution_count": 14,
   "metadata": {},
   "outputs": [
    {
     "name": "stdout",
     "output_type": "stream",
     "text": [
      "The 0 th element is:  apple\n",
      "The 1 th element is:  banana\n",
      "The 2 th element is:  kite\n",
      "The 3 th element is:  cellphone\n"
     ]
    }
   ],
   "source": [
    "for i,item in enumerate(['apple','banana','kite','cellphone']):\n",
    "    print(\"The\",i,\"th element is: \", item)"
   ]
  },
  {
   "cell_type": "markdown",
   "metadata": {},
   "source": [
    "- To create a list with ```for``` loop"
   ]
  },
  {
   "cell_type": "code",
   "execution_count": 15,
   "metadata": {},
   "outputs": [
    {
     "name": "stdout",
     "output_type": "stream",
     "text": [
      "[1, 16, 51, 106, 181, 276, 391, 526, 681, 856]\n"
     ]
    }
   ],
   "source": [
    "A = [10*k**2+5*k+1 for k in range(10)]\n",
    "print(A)"
   ]
  },
  {
   "cell_type": "code",
   "execution_count": 16,
   "metadata": {},
   "outputs": [
    {
     "name": "stdout",
     "output_type": "stream",
     "text": [
      "[[1, 11, 41], [6, 16, 46], [11, 21, 51]]\n"
     ]
    }
   ],
   "source": [
    "AA = [[10*x**2+5*y+1 for x in range(3)] for y in range(3)]\n",
    "print(AA)"
   ]
  },
  {
   "cell_type": "markdown",
   "metadata": {},
   "source": [
    "- To iterate over List of List"
   ]
  },
  {
   "cell_type": "code",
   "execution_count": 17,
   "metadata": {},
   "outputs": [
    {
     "name": "stdout",
     "output_type": "stream",
     "text": [
      "The ( 0 , 0 ) th element is:  1\n",
      "The ( 0 , 1 ) th element is:  11\n",
      "The ( 0 , 2 ) th element is:  41\n",
      "The ( 1 , 0 ) th element is:  6\n",
      "The ( 1 , 1 ) th element is:  16\n",
      "The ( 1 , 2 ) th element is:  46\n",
      "The ( 2 , 0 ) th element is:  11\n",
      "The ( 2 , 1 ) th element is:  21\n",
      "The ( 2 , 2 ) th element is:  51\n"
     ]
    }
   ],
   "source": [
    "for i in range(3): \n",
    "    for j in range(3):\n",
    "        print(\"The\",\"(\",i,\",\",j,\")\",\"th element is: \",AA[i][j])"
   ]
  },
  {
   "cell_type": "markdown",
   "metadata": {},
   "source": [
    "- To use ```while``` loop."
   ]
  },
  {
   "cell_type": "code",
   "execution_count": 18,
   "metadata": {},
   "outputs": [
    {
     "name": "stdout",
     "output_type": "stream",
     "text": [
      "0 th turn\n",
      "1 th turn\n",
      "2 th turn\n",
      "3 th turn\n",
      "4 th turn\n"
     ]
    }
   ],
   "source": [
    "i = 0\n",
    "while i <5:\n",
    "    print( i, \"th turn\")\n",
    "    i = i+1"
   ]
  },
  {
   "cell_type": "markdown",
   "metadata": {},
   "source": [
    "- To break for loop implementing ```if``` condition"
   ]
  },
  {
   "cell_type": "code",
   "execution_count": 19,
   "metadata": {},
   "outputs": [
    {
     "name": "stdout",
     "output_type": "stream",
     "text": [
      "0\n",
      "1\n",
      "2\n",
      "3\n"
     ]
    }
   ],
   "source": [
    "for i in range(10):\n",
    "    print(i)\n",
    "    if i ==3:\n",
    "        break"
   ]
  },
  {
   "cell_type": "markdown",
   "metadata": {},
   "source": [
    "- To test the if conditions:"
   ]
  },
  {
   "cell_type": "code",
   "execution_count": 20,
   "metadata": {},
   "outputs": [
    {
     "name": "stdout",
     "output_type": "stream",
     "text": [
      "It is samaller then 10 and greater then 8 | 9.315493441536258\n",
      "It is samaller then 4 and greater then 2 | 2.8737802063800433\n",
      "It is samaller then 10 and greater then 8 | 8.161485952215573\n",
      "It is samaller then 4 and greater then 2 | 2.871801765549443\n",
      "It is samaller then 6 and greater then 4 | 4.1942419365347225\n",
      "It is samaller then 8 and greater then 6 | 6.055115669863895\n",
      "It is samaller then 6 and greater then 4 | 4.048650983979457\n",
      "It is samaller then 4 and greater then 2 | 2.109269432588466\n",
      "It is samaller then 8 and greater then 6 | 6.7494924090067805\n",
      "It is samaller then 4 and greater then 2 | 2.6397257718955234\n"
     ]
    }
   ],
   "source": [
    "import random as random\n",
    "\n",
    "for i in range(10):\n",
    "    r = random.uniform(1,10)\n",
    "    if r<2 and r>0:\n",
    "        print(\"It is samaller then 2 and greater then 1\",\"|\", r)\n",
    "    elif r<4 and r>2:\n",
    "        print(\"It is samaller then 4 and greater then 2\",\"|\", r)\n",
    "    elif r<6 and r>4:\n",
    "        print(\"It is samaller then 6 and greater then 4\",\"|\", r)\n",
    "    elif r<8 and r>6:\n",
    "        print(\"It is samaller then 8 and greater then 6\",\"|\", r)\n",
    "    elif r<10 and r>8:\n",
    "        print(\"It is samaller then 10 and greater then 8\",\"|\", r)"
   ]
  },
  {
   "cell_type": "markdown",
   "metadata": {},
   "source": [
    "- To find sum from 0 to 1000"
   ]
  },
  {
   "cell_type": "code",
   "execution_count": 21,
   "metadata": {},
   "outputs": [
    {
     "data": {
      "text/plain": [
       "500500"
      ]
     },
     "execution_count": 21,
     "metadata": {},
     "output_type": "execute_result"
    }
   ],
   "source": [
    "s = 0\n",
    "for i in range(1000+1):\n",
    "    s = s+i\n",
    "s"
   ]
  },
  {
   "cell_type": "markdown",
   "metadata": {},
   "source": [
    "- To find sum from 0 to 1000 (only even)"
   ]
  },
  {
   "cell_type": "code",
   "execution_count": 22,
   "metadata": {},
   "outputs": [
    {
     "data": {
      "text/plain": [
       "(250500, 250500)"
      ]
     },
     "execution_count": 22,
     "metadata": {},
     "output_type": "execute_result"
    }
   ],
   "source": [
    "s = 0\n",
    "LE = []\n",
    "for i in range(1001):\n",
    "    if i%2 ==0:\n",
    "        LE.append(i)\n",
    "        s = s+i\n",
    "s, sum(LE)"
   ]
  },
  {
   "cell_type": "markdown",
   "metadata": {},
   "source": [
    "### References:\n",
    "1. https://docs.python.org/3/tutorial/index.html"
   ]
  },
  {
   "cell_type": "markdown",
   "metadata": {},
   "source": [
    "--------"
   ]
  }
 ],
 "metadata": {
  "kernelspec": {
   "display_name": "Python 3",
   "language": "python",
   "name": "python3"
  },
  "language_info": {
   "codemirror_mode": {
    "name": "ipython",
    "version": 3
   },
   "file_extension": ".py",
   "mimetype": "text/x-python",
   "name": "python",
   "nbconvert_exporter": "python",
   "pygments_lexer": "ipython3",
   "version": "3.7.6"
  }
 },
 "nbformat": 4,
 "nbformat_minor": 2
}
