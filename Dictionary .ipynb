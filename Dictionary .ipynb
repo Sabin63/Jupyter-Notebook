{
 "cells": [
  {
   "cell_type": "markdown",
   "metadata": {},
   "source": [
    "- Dictionary is closed by curly bracket {}\n",
    "- There should be two types data in format \"keys:value\""
   ]
  },
  {
   "cell_type": "code",
   "execution_count": 41,
   "metadata": {},
   "outputs": [
    {
     "name": "stdout",
     "output_type": "stream",
     "text": [
      "{1: 'Ram', 22: 'Shyam', 3: 'Hari', 4: 'Chatur', 5: 'Joh', 6: 'Sita'}\n"
     ]
    }
   ],
   "source": [
    "A={1:'Ram',22:'Shyam',3:'Hari',4:'Chatur',5:'Joh',6:'Sita'}\n",
    "print(A)"
   ]
  },
  {
   "cell_type": "code",
   "execution_count": 42,
   "metadata": {},
   "outputs": [
    {
     "data": {
      "text/plain": [
       "('Ram', 'Shyam')"
      ]
     },
     "execution_count": 42,
     "metadata": {},
     "output_type": "execute_result"
    }
   ],
   "source": [
    "A[1],A[22]  #A[keys] = value, keys are not index"
   ]
  },
  {
   "cell_type": "code",
   "execution_count": 43,
   "metadata": {},
   "outputs": [
    {
     "data": {
      "text/plain": [
       "('Ram', None)"
      ]
     },
     "execution_count": 43,
     "metadata": {},
     "output_type": "execute_result"
    }
   ],
   "source": [
    "A.get(1),A.get(2) #another way to get value"
   ]
  },
  {
   "cell_type": "code",
   "execution_count": 5,
   "metadata": {},
   "outputs": [
    {
     "name": "stdout",
     "output_type": "stream",
     "text": [
      "{'ram': 60, 'shyam': 70, 'shiva': 39, 'radha': 54}\n"
     ]
    }
   ],
   "source": [
    "D = {'ram':60,'shyam':70,'shiva':39,'radha':54}\n",
    "print(D)"
   ]
  },
  {
   "cell_type": "code",
   "execution_count": 13,
   "metadata": {},
   "outputs": [
    {
     "data": {
      "text/plain": [
       "dict_keys(['ram', 'shyam', 'shiva', 'radha'])"
      ]
     },
     "execution_count": 13,
     "metadata": {},
     "output_type": "execute_result"
    }
   ],
   "source": [
    "D.keys()"
   ]
  },
  {
   "cell_type": "code",
   "execution_count": 16,
   "metadata": {},
   "outputs": [
    {
     "data": {
      "text/plain": [
       "dict_keys(['ram', 'shyam', 'shiva', 'radha'])"
      ]
     },
     "execution_count": 16,
     "metadata": {},
     "output_type": "execute_result"
    }
   ],
   "source": [
    "D.keys()"
   ]
  },
  {
   "cell_type": "code",
   "execution_count": 40,
   "metadata": {},
   "outputs": [
    {
     "name": "stdout",
     "output_type": "stream",
     "text": [
      "{11: 'nepali', 22: 'English', 30: 'Science', 49: 'Social Studies'}\n"
     ]
    }
   ],
   "source": [
    "data={11:'nepali',22:'English',30:'Science',49:'Social Studies'}\n",
    "print(data)"
   ]
  },
  {
   "cell_type": "code",
   "execution_count": 35,
   "metadata": {},
   "outputs": [
    {
     "data": {
      "text/plain": [
       "('nepali', 'English', 'Science')"
      ]
     },
     "execution_count": 35,
     "metadata": {},
     "output_type": "execute_result"
    }
   ],
   "source": [
    "data[11],data[22],data[30]"
   ]
  },
  {
   "cell_type": "code",
   "execution_count": 51,
   "metadata": {},
   "outputs": [
    {
     "data": {
      "text/plain": [
       "(None, None)"
      ]
     },
     "execution_count": 51,
     "metadata": {},
     "output_type": "execute_result"
    }
   ],
   "source": [
    "data.get(11), data.get(3)\n"
   ]
  },
  {
   "cell_type": "markdown",
   "metadata": {},
   "source": [
    " - How can we convert two lists into dictionary"
   ]
  },
  {
   "cell_type": "code",
   "execution_count": 44,
   "metadata": {},
   "outputs": [
    {
     "name": "stdout",
     "output_type": "stream",
     "text": [
      "{20: 'ram', 45: 'shyam', 67: 'hari', 54: 'sita', 34: 'gita'}\n"
     ]
    }
   ],
   "source": [
    "L=['ram', 'shyam','hari','sita','gita']\n",
    "M=[20,45,67,54,34,12,23,45,56]\n",
    "\n",
    "D=dict(zip(M,L)) #dict(zip(first list,second list))\n",
    "\n",
    "print(D)"
   ]
  },
  {
   "cell_type": "markdown",
   "metadata": {},
   "source": [
    "### could we convert three lists into single dictionary??"
   ]
  },
  {
   "cell_type": "code",
   "execution_count": 23,
   "metadata": {},
   "outputs": [
    {
     "ename": "ValueError",
     "evalue": "dictionary update sequence element #0 has length 3; 2 is required",
     "output_type": "error",
     "traceback": [
      "\u001b[1;31m---------------------------------------------------------------------------\u001b[0m",
      "\u001b[1;31mValueError\u001b[0m                                Traceback (most recent call last)",
      "\u001b[1;32m<ipython-input-23-072e714453ab>\u001b[0m in \u001b[0;36m<module>\u001b[1;34m\u001b[0m\n\u001b[0;32m      1\u001b[0m \u001b[0mR\u001b[0m\u001b[1;33m=\u001b[0m\u001b[1;33m[\u001b[0m\u001b[1;36m1\u001b[0m\u001b[1;33m,\u001b[0m\u001b[1;36m2\u001b[0m\u001b[1;33m,\u001b[0m\u001b[1;36m3\u001b[0m\u001b[1;33m,\u001b[0m\u001b[1;36m4\u001b[0m\u001b[1;33m,\u001b[0m\u001b[1;36m5\u001b[0m\u001b[1;33m,\u001b[0m\u001b[1;36m6\u001b[0m\u001b[1;33m,\u001b[0m\u001b[1;36m7\u001b[0m\u001b[1;33m,\u001b[0m\u001b[1;36m8\u001b[0m\u001b[1;33m,\u001b[0m\u001b[1;36m9\u001b[0m\u001b[1;33m]\u001b[0m\u001b[1;33m\u001b[0m\u001b[1;33m\u001b[0m\u001b[0m\n\u001b[0;32m      2\u001b[0m \u001b[0mK\u001b[0m\u001b[1;33m=\u001b[0m\u001b[1;33m[\u001b[0m\u001b[1;36m10\u001b[0m\u001b[1;33m,\u001b[0m\u001b[1;36m20\u001b[0m\u001b[1;33m,\u001b[0m\u001b[1;36m30\u001b[0m\u001b[1;33m,\u001b[0m\u001b[1;36m40\u001b[0m\u001b[1;33m,\u001b[0m\u001b[1;36m50\u001b[0m\u001b[1;33m,\u001b[0m\u001b[1;36m60\u001b[0m\u001b[1;33m,\u001b[0m\u001b[1;36m70\u001b[0m\u001b[1;33m,\u001b[0m\u001b[1;36m80\u001b[0m\u001b[1;33m,\u001b[0m\u001b[1;36m90\u001b[0m\u001b[1;33m]\u001b[0m\u001b[1;33m\u001b[0m\u001b[1;33m\u001b[0m\u001b[0m\n\u001b[1;32m----> 3\u001b[1;33m \u001b[0mD\u001b[0m\u001b[1;33m=\u001b[0m\u001b[0mdict\u001b[0m\u001b[1;33m(\u001b[0m\u001b[0mzip\u001b[0m\u001b[1;33m(\u001b[0m\u001b[0mR\u001b[0m\u001b[1;33m,\u001b[0m\u001b[0mK\u001b[0m\u001b[1;33m,\u001b[0m\u001b[0mG\u001b[0m\u001b[1;33m)\u001b[0m\u001b[1;33m)\u001b[0m\u001b[1;33m\u001b[0m\u001b[1;33m\u001b[0m\u001b[0m\n\u001b[0m\u001b[0;32m      4\u001b[0m \u001b[0mprint\u001b[0m\u001b[1;33m(\u001b[0m\u001b[0mD\u001b[0m\u001b[1;33m)\u001b[0m\u001b[1;33m\u001b[0m\u001b[1;33m\u001b[0m\u001b[0m\n",
      "\u001b[1;31mValueError\u001b[0m: dictionary update sequence element #0 has length 3; 2 is required"
     ]
    }
   ],
   "source": [
    "\n",
    "R=[1,2,3,4,5,6,7,8,9]\n",
    "K=[10,20,30,40,50,60,70,80,90]\n",
    "D=dict(zip(R,K,G)) \n",
    "print(D) #errer represrnts that we could't convert directly more than 2 list into dictionary"
   ]
  },
  {
   "cell_type": "markdown",
   "metadata": {},
   "source": [
    "- we use following method to convert three or more lists into dictionary\n",
    "- in dictionary we use \"update\" instead of \"append in list\"."
   ]
  },
  {
   "cell_type": "code",
   "execution_count": 25,
   "metadata": {},
   "outputs": [
    {
     "name": "stdout",
     "output_type": "stream",
     "text": [
      "{'Name': ['ram', 'shyam', 'hari', 'gopal', 'john'], 'Address': ['kaski', 'tanahun', 'dhading', 'kathmandu', 'nuwakot'], 'Grade': ['A+', 'B-', 'C+', 'B', 'D-']}\n"
     ]
    }
   ],
   "source": [
    "#first create three lists\n",
    "N = ['ram','shyam','hari','gopal','john'] \n",
    "A=['kaski','tanahun','dhading','kathmandu','nuwakot']\n",
    "G = ['A+','B-','C+','B','D-']\n",
    "Data = {} #empty dictionary\n",
    "\n",
    "Data.update({'Name':N,'Address':A,'Grade':G}) # adding three list indo dictionary with keys and values, list are values, we have to add keys\n",
    "print(Data)\n"
   ]
  },
  {
   "cell_type": "code",
   "execution_count": 38,
   "metadata": {},
   "outputs": [
    {
     "name": "stdout",
     "output_type": "stream",
     "text": [
      "{'ram': 100, 'shyam': 101, 'hari': 10, 'gopal': 2, 'john': 4}\n"
     ]
    }
   ],
   "source": [
    "data=dict(zip(N,A)) #convert two list N and A into dictionary\n",
    "print(data)"
   ]
  },
  {
   "cell_type": "markdown",
   "metadata": {},
   "source": [
    "- Find the type of data set"
   ]
  },
  {
   "cell_type": "code",
   "execution_count": 37,
   "metadata": {},
   "outputs": [
    {
     "name": "stdout",
     "output_type": "stream",
     "text": [
      "<class 'dict'>\n",
      "<class 'set'>\n",
      "<class 'list'>\n",
      "<class 'set'>\n"
     ]
    },
    {
     "data": {
      "text/plain": [
       "(None, None, None, None)"
      ]
     },
     "execution_count": 37,
     "metadata": {},
     "output_type": "execute_result"
    }
   ],
   "source": [
    "D = {1,2,3,4,5,6,7,8,9} \n",
    "A = (100,101,10,2,4,5)\n",
    "T = [1,2,3,4,5,6,7,8,9]\n",
    "L = {1:'2',2:'3',3:'4',4:'5'}\n",
    "print(type(L)),print(type(D)),print(type(T)),print(type(D))"
   ]
  },
  {
   "cell_type": "code",
   "execution_count": 35,
   "metadata": {},
   "outputs": [
    {
     "name": "stdout",
     "output_type": "stream",
     "text": [
      "[3, 4, 5, 6, 7, 8, 1, 2, 3, 4, 5]\n"
     ]
    }
   ],
   "source": [
    "#addition of list\n",
    "L=[1,2,3,4,5]\n",
    "M=[3,4,5,6,7,8]\n",
    "M+L\n",
    "print(M+L)"
   ]
  },
  {
   "cell_type": "code",
   "execution_count": 36,
   "metadata": {},
   "outputs": [
    {
     "name": "stdout",
     "output_type": "stream",
     "text": [
      "[1, 2, 3, 4, 5, 3, 4, 5, 6, 7, 8]\n"
     ]
    }
   ],
   "source": [
    "#order matters\n",
    "L+M\n",
    "print(L+M)"
   ]
  },
  {
   "cell_type": "code",
   "execution_count": 81,
   "metadata": {},
   "outputs": [
    {
     "name": "stdout",
     "output_type": "stream",
     "text": [
      "{(0, 0): 0, (0, 1): 1, (0, 2): 2, (0, 3): 3, (0, 4): 4, (0, 5): 5, (0, 6): 6, (0, 7): 7, (0, 8): 8, (0, 9): 9, (1, 0): 100, (1, 1): 11, (1, 2): 102, (1, 3): 103, (1, 4): 104, (1, 5): 105, (1, 6): 106, (1, 7): 107, (1, 8): 108, (1, 9): 109, (2, 0): 200, (2, 1): 201, (2, 2): 22, (2, 3): 203, (2, 4): 204, (2, 5): 205, (2, 6): 206, (2, 7): 207, (2, 8): 208, (2, 9): 209, (3, 0): 300, (3, 1): 301, (3, 2): 302, (3, 3): 33, (3, 4): 304, (3, 5): 305, (3, 6): 306, (3, 7): 307, (3, 8): 308, (3, 9): 309, (4, 0): 400, (4, 1): 401, (4, 2): 402, (4, 3): 403, (4, 4): 44, (4, 5): 405, (4, 6): 406, (4, 7): 407, (4, 8): 408, (4, 9): 409, (5, 0): 500, (5, 1): 501, (5, 2): 502, (5, 3): 503, (5, 4): 504, (5, 5): 55, (5, 6): 506, (5, 7): 507, (5, 8): 508, (5, 9): 509, (6, 0): 600, (6, 1): 601, (6, 2): 602, (6, 3): 603, (6, 4): 604, (6, 5): 605, (6, 6): 66, (6, 7): 607, (6, 8): 608, (6, 9): 609, (7, 0): 700, (7, 1): 701, (7, 2): 702, (7, 3): 703, (7, 4): 704, (7, 5): 705, (7, 6): 706, (7, 7): 77, (7, 8): 708, (7, 9): 709, (8, 0): 800, (8, 1): 801, (8, 2): 802, (8, 3): 803, (8, 4): 804, (8, 5): 805, (8, 6): 806, (8, 7): 807, (8, 8): 88, (8, 9): 809, (9, 0): 900, (9, 1): 901, (9, 2): 902, (9, 3): 903, (9, 4): 904, (9, 5): 905, (9, 6): 906, (9, 7): 907, (9, 8): 908, (9, 9): 99}\n"
     ]
    }
   ],
   "source": [
    "D={} #empty dictionary\n",
    "for i in range(10):\n",
    "    for j in range(10):\n",
    "        if i == j:\n",
    "            D.update({(i,j):10*i+j})\n",
    "        elif i!=j:\n",
    "            D.update({(i,j):100*i+j})\n",
    "print(D)"
   ]
  },
  {
   "cell_type": "code",
   "execution_count": 85,
   "metadata": {},
   "outputs": [
    {
     "name": "stdout",
     "output_type": "stream",
     "text": [
      "apple | 0 | 12\n",
      "ball | 1 | 45\n",
      "book | 2 | 33\n",
      "girl | 3 | 23\n",
      "boy | 4 | 35\n",
      "key | 5 | 67\n",
      "banana | 6 | 98\n",
      "kite | 7 | 45\n",
      "cellphone | 8 | 67\n",
      "pen | 9 | 34\n"
     ]
    }
   ],
   "source": [
    "for item,i,k in zip(['apple','ball','book','girl','boy','key','banana','kite','cellphone','pen'],\\\n",
    "                    range(10),[12,45,33,23,35,67,98,45,67,34]):\n",
    "    print(item,\"|\",i,\"|\",k)"
   ]
  },
  {
   "cell_type": "code",
   "execution_count": null,
   "metadata": {},
   "outputs": [],
   "source": []
  }
 ],
 "metadata": {
  "kernelspec": {
   "display_name": "Python 3",
   "language": "python",
   "name": "python3"
  },
  "language_info": {
   "codemirror_mode": {
    "name": "ipython",
    "version": 3
   },
   "file_extension": ".py",
   "mimetype": "text/x-python",
   "name": "python",
   "nbconvert_exporter": "python",
   "pygments_lexer": "ipython3",
   "version": "3.7.6"
  }
 },
 "nbformat": 4,
 "nbformat_minor": 4
}
